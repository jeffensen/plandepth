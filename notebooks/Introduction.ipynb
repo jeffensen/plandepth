{
 "cells": [
  {
   "cell_type": "markdown",
   "metadata": {},
   "source": [
    "## Motivation\n",
    "\n",
    "Goal-directed decision making is an essential aspect of our daily lives, as choices we make are shaped by the goals we want to achieve. An obvious difficulty one faces when trying to achieve a goal is how far ahead one should plan. In our everyday dynamic environment, the optimal planning depth is inevitably shaped by our goals and our knowledge about the underlying dynamics of the given environment. In other words, selecting a planning depth will depend on our preferences and our beliefs about the generative model of the task, namely causal relation between the actions, outcomes, state transitions, and the time remaining to fulfil the set goal. \n",
    "\n",
    "The choice of planning depth is naturally linked to the accuracy - complexity trade-off. The deeper the planning depth the more complex the plan is, however at the same time the deeper the planning depth the better one is in finding a behavioural policy most likely to fulfil the set goal. An implicit variable that shapes this trade-off also is the time available for planning. If one beliefs that the environment will go trough changes that would make our current plans obsolete, one does not need to plan past the moment when we expect environment to change, however one has to act fast enough to reach the goal before the change occurs.\n",
    "\n",
    "Here we will investigate individual variability in planning depth and elucidate mechanisms that cause this variability. We hypothesised that experience shapes planning depth in a way that modulates beliefs about required planning depth on a given task. These beliefs about planning depth interact with the beliefs about predictability of ones actions to form posterior beliefs about planning depth in a given task. "
   ]
  },
  {
   "cell_type": "markdown",
   "metadata": {},
   "source": [
    "## The space adventure task\n",
    "\n",
    "<center><img  src=\"experiment.png\"></center>\n",
    "\n",
    "To probe mechanisms which influence inter-individual time evolution of the planning depth we have adapted a typical multi-stage task, which we will refer to as the Space Adventure Task (SAT). The SAT consists of participants navigate a spaceship through various planetary systems. (A) Each system consists of six planets and up to five planet types which cost or give fuel to the spaceship. The goal is to save as much fuel as possible until the end of the experiment consisting of $N=100$ mini-blocks. Units of fuel translate into one Euro cent, which is paid out to the participants as a performance dependent bonus.\n",
    "\n",
    "(B) Throughout a mini-block, participants see the planets of the given planetary system, the current location of the spaceship, a coloured bar showing the remaining amount of fuel, and the number of remaining actions in the current mini-block (see subplot B). The configurations of planets and the starting position of the space ship are selected anew in each mini block in a way that participants have to plan forward to identify the best movement step. We instructed participants to travel from planet to planet and collect fuel for their spaceship, where each travel takes one action. Given the limited number of actions (either 2 or 3), the participants have to carefully choose a sequence of action which will result in the highest net return of fuel. In each trial within a mini-block, participants can make a choice between two actions: (i) They can travel into clock-wise direction to the next planet, or (ii) they perform a jump which leads them to a specific non-neighbouring planet. The jump transition pattern is shown in subplot B. Travelling to the next planet into clockwise direction costs 2 units and jumping costs 5 units of fuel.\n",
    "\n",
    "Besides changing the maximum number of actions in each mini-block we have also varied the uncertainty of the jump action. In mini-blocks with low transition uncertainty, the spaceship would jump to the expected planet (as shown in Fig. 2C) with a $90\\%$ probability. In mini-blocks with high transition uncertainty (clearly indicated to participants), the spaceship would jump to the expected planet only with $50\\%$ probability. If the spaceship missed the expected planet it would land instead on one of the neighbouring planets with equal probability. Participants were told about the effect of uncertainty but were not told explicitly the probabilities. The goal is that they build a representation of success/fail probabilities over time.\n",
    "\n",
    "In summary, there are four phases of the experiment, where we vary two factors 'total actions' (2 or 3) and 'uncertainty' (low and high). For each phase, we acquired choice and reaction time data from 25 mini-blocks, with 100 mini-blocks per participant in total. All go through an extensive training period to ensure that they have understood the task and memorised the effect of jumps for all six planet locations. "
   ]
  },
  {
   "cell_type": "markdown",
   "metadata": {},
   "source": [
    "## Computational model"
   ]
  },
  {
   "cell_type": "markdown",
   "metadata": {},
   "source": [
    "## Planning depth inference"
   ]
  },
  {
   "cell_type": "markdown",
   "metadata": {},
   "source": [
    "## Bayesian linear regression"
   ]
  },
  {
   "cell_type": "code",
   "execution_count": null,
   "metadata": {},
   "outputs": [],
   "source": []
  }
 ],
 "metadata": {
  "kernelspec": {
   "display_name": "Python 3",
   "language": "python",
   "name": "python3"
  },
  "language_info": {
   "codemirror_mode": {
    "name": "ipython",
    "version": 3
   },
   "file_extension": ".py",
   "mimetype": "text/x-python",
   "name": "python",
   "nbconvert_exporter": "python",
   "pygments_lexer": "ipython3",
   "version": "3.7.5"
  }
 },
 "nbformat": 4,
 "nbformat_minor": 2
}
