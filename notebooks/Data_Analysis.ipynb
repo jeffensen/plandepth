{
 "cells": [
  {
   "cell_type": "code",
   "execution_count": 5,
   "metadata": {},
   "outputs": [],
   "source": [
    "# Analyse data from csv-files\n",
    "\n",
    "import torch\n",
    "\n",
    "from scipy import io\n",
    "\n",
    "import pandas as pd\n",
    "\n",
    "from torch import zeros, ones\n",
    "\n",
    "import numpy as np\n",
    "\n",
    "import matplotlib.pyplot as plt\n",
    "import seaborn as sns\n",
    "sns.set(context='poster', style='white')\n",
    "sns.set_palette(\"colorblind\", n_colors=5, color_codes=True)\n",
    "\n",
    "from os import listdir\n",
    "from os.path import expanduser\n",
    "from pathlib import Path"
   ]
  },
  {
   "cell_type": "code",
   "execution_count": 6,
   "metadata": {},
   "outputs": [],
   "source": [
    "path1 = '/home/sascha/Desktop/cloudstore/Shared/Plandepth/B03_pilot/main/OA/'\n",
    "path2 = '/home/sascha/Desktop/cloudstore/Shared/Plandepth/B03_pilot/main/YA/'"
   ]
  }
 ],
 "metadata": {
  "kernelspec": {
   "display_name": "Python 3",
   "language": "python",
   "name": "python3"
  },
  "language_info": {
   "codemirror_mode": {
    "name": "ipython",
    "version": 3
   },
   "file_extension": ".py",
   "mimetype": "text/x-python",
   "name": "python",
   "nbconvert_exporter": "python",
   "pygments_lexer": "ipython3",
   "version": "3.8.1"
  }
 },
 "nbformat": 4,
 "nbformat_minor": 2
}
